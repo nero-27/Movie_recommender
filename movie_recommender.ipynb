{
  "nbformat": 4,
  "nbformat_minor": 0,
  "metadata": {
    "colab": {
      "provenance": []
    },
    "kernelspec": {
      "name": "python3",
      "display_name": "Python 3"
    },
    "language_info": {
      "name": "python"
    }
  },
  "cells": [
    {
      "cell_type": "code",
      "execution_count": 2,
      "metadata": {
        "id": "rgkMSIdGwvhg"
      },
      "outputs": [],
      "source": [
        "import numpy as np\n",
        "import pandas as pd\n",
        "from sklearn.model_selection import train_test_split\n",
        "from sklearn.feature_extraction.text import TfidfVectorizer\n"
      ]
    },
    {
      "cell_type": "code",
      "source": [
        "!wget https://lazyprogrammer.me/course_files/nlp/tmdb_5000_movies.csv\n"
      ],
      "metadata": {
        "colab": {
          "base_uri": "https://localhost:8080/"
        },
        "id": "A1ypWvDZxgiI",
        "outputId": "693d053e-5cae-43bf-c7b0-221926a61c6c"
      },
      "execution_count": 3,
      "outputs": [
        {
          "output_type": "stream",
          "name": "stdout",
          "text": [
            "--2024-05-03 09:26:41--  https://lazyprogrammer.me/course_files/nlp/tmdb_5000_movies.csv\n",
            "Resolving lazyprogrammer.me (lazyprogrammer.me)... 172.67.213.166, 104.21.23.210, 2606:4700:3031::6815:17d2, ...\n",
            "Connecting to lazyprogrammer.me (lazyprogrammer.me)|172.67.213.166|:443... connected.\n",
            "HTTP request sent, awaiting response... 200 OK\n",
            "Length: 5698602 (5.4M) [text/csv]\n",
            "Saving to: ‘tmdb_5000_movies.csv’\n",
            "\n",
            "tmdb_5000_movies.cs 100%[===================>]   5.43M  19.9MB/s    in 0.3s    \n",
            "\n",
            "2024-05-03 09:26:42 (19.9 MB/s) - ‘tmdb_5000_movies.csv’ saved [5698602/5698602]\n",
            "\n"
          ]
        }
      ]
    },
    {
      "cell_type": "code",
      "source": [
        "df = pd.read_csv(\"tmdb_5000_movies.csv\")\n",
        "df.head()"
      ],
      "metadata": {
        "id": "ioC0iZ78xu_R"
      },
      "execution_count": null,
      "outputs": []
    },
    {
      "cell_type": "code",
      "source": [
        "\"\"\"\n",
        "TO COMBINE COLUMNS\n",
        "title, overview, production companies (name), genres(name), keywords(name), tagline, original language\n",
        "\"\"\"\n",
        "import json\n",
        "# df.insert(0, \"movie_genre\", True)\n",
        "\n",
        "\n",
        "def unpack_dict(df, col, key, new_col):\n",
        "  df.insert(0, new_col, True)\n",
        "  string=''\n",
        "  k=0\n",
        "  for row in df[col]:\n",
        "    res = json.loads(row)\n",
        "    for i in res:\n",
        "      string += i[key].replace(' ','') + ' '\n",
        "    df[new_col][k] = string\n",
        "    string = ''\n",
        "    k+=1\n",
        "\n",
        "# df_document =\n",
        "unpack_dict(df, 'genres', 'name', 'movie_genre')\n"
      ],
      "metadata": {
        "id": "BQD-m4GWx2hW"
      },
      "execution_count": null,
      "outputs": []
    },
    {
      "cell_type": "code",
      "source": [],
      "metadata": {
        "id": "q9afvzDizJeD"
      },
      "execution_count": 75,
      "outputs": []
    },
    {
      "cell_type": "code",
      "source": [
        "# df.insert(0, \"movie_keywords\", True)\n",
        "unpack_dict(df, 'keywords', 'name', 'movie_keywords')\n",
        "df.head()"
      ],
      "metadata": {
        "id": "4UigDso96a0u"
      },
      "execution_count": null,
      "outputs": []
    },
    {
      "cell_type": "code",
      "source": [
        "# df.insert(0, 'companies', True)\n",
        "\n",
        "unpack_dict(df,'production_companies', 'name', 'companies')\n",
        "df.head()"
      ],
      "metadata": {
        "id": "GAvhyr2U7Y_E"
      },
      "execution_count": null,
      "outputs": []
    },
    {
      "cell_type": "code",
      "source": [
        "# df.insert(0, 'countries', True)\n",
        "\n",
        "unpack_dict(df,'production_countries', 'name', 'countries')\n",
        "df.head()"
      ],
      "metadata": {
        "id": "Ni9_95UW_Wn3"
      },
      "execution_count": null,
      "outputs": []
    },
    {
      "cell_type": "code",
      "source": [
        "# df.insert(0, 'languages', True)\n",
        "\n",
        "unpack_dict(df,'spoken_languages', 'name', 'languages')\n",
        "df.head()"
      ],
      "metadata": {
        "id": "qkhViV4P_rQ-"
      },
      "execution_count": null,
      "outputs": []
    },
    {
      "cell_type": "code",
      "source": [
        "df.columns"
      ],
      "metadata": {
        "colab": {
          "base_uri": "https://localhost:8080/"
        },
        "id": "UIPl8WSH7ybI",
        "outputId": "e90aadf5-24f7-4ca5-e9cb-7b734532fc8d"
      },
      "execution_count": 88,
      "outputs": [
        {
          "output_type": "execute_result",
          "data": {
            "text/plain": [
              "Index(['countries', 'companies', 'movie_keywords', 'movie_genre', 'budget',\n",
              "       'genres', 'homepage', 'id', 'keywords', 'original_language',\n",
              "       'original_title', 'overview', 'popularity', 'production_companies',\n",
              "       'production_countries', 'release_date', 'revenue', 'runtime',\n",
              "       'spoken_languages', 'status', 'tagline', 'title', 'vote_average',\n",
              "       'vote_count'],\n",
              "      dtype='object')"
            ]
          },
          "metadata": {},
          "execution_count": 88
        }
      ]
    },
    {
      "cell_type": "code",
      "source": [
        "df_new = df.drop(['genres', 'keywords', 'budget', 'homepage', 'id', 'original_title', 'popularity', 'production_companies', 'production_countries', 'runtime', 'revenue', 'release_date', 'vote_average', 'vote_count', 'spoken_languages', 'original_language'], axis=1)\n",
        "df_new.head()\n",
        "df_new_X = df_new.drop(['title'], axis=1)\n",
        "df_new_X.head()"
      ],
      "metadata": {
        "id": "0LAX_56V8JPT"
      },
      "execution_count": null,
      "outputs": []
    },
    {
      "cell_type": "code",
      "source": [
        "df_string = df_new_X\n",
        "# df_string = df_string.drop(['movie_string'], axis=1)\n",
        "df_string['movie_string'] = df_new_X[df_new_X.columns[:]].apply(\n",
        "    lambda x: ' '.join(x.dropna().astype(str)),\n",
        "    axis=1\n",
        ")\n"
      ],
      "metadata": {
        "id": "beg_3ynh8YDl"
      },
      "execution_count": null,
      "outputs": []
    },
    {
      "cell_type": "code",
      "source": [
        "df_string['movie_string'].head()"
      ],
      "metadata": {
        "colab": {
          "base_uri": "https://localhost:8080/"
        },
        "id": "DSM10yvSHn5p",
        "outputId": "0d5546c0-c238-40a1-84cf-b017299162d5"
      },
      "execution_count": 126,
      "outputs": [
        {
          "output_type": "execute_result",
          "data": {
            "text/plain": [
              "0    English Español  UnitedStatesofAmerica UnitedK...\n",
              "1    English  UnitedStatesofAmerica  WaltDisneyPict...\n",
              "2    Français English Español Italiano Deutsch  Uni...\n",
              "3    English  UnitedStatesofAmerica  LegendaryPictu...\n",
              "4    English  UnitedStatesofAmerica  WaltDisneyPict...\n",
              "Name: movie_string, dtype: object"
            ]
          },
          "metadata": {},
          "execution_count": 126
        }
      ]
    },
    {
      "cell_type": "code",
      "source": [],
      "metadata": {
        "id": "9Af3NZJvBTRZ"
      },
      "execution_count": 126,
      "outputs": []
    },
    {
      "cell_type": "code",
      "source": [
        "vectorizer = TfidfVectorizer(max_features=2000)\n",
        "X = vectorizer.fit_transform(df_string['movie_string'])\n"
      ],
      "metadata": {
        "id": "yFwEWqysBfR6"
      },
      "execution_count": 127,
      "outputs": []
    },
    {
      "cell_type": "code",
      "source": [
        "movie2idx = pd.Series(df_new.index, index=df_new['title'])\n",
        "movie2idx\n"
      ],
      "metadata": {
        "id": "IA4X_xyiCDLK"
      },
      "execution_count": null,
      "outputs": []
    },
    {
      "cell_type": "markdown",
      "source": [
        "RUN THE CELL BELOW"
      ],
      "metadata": {
        "id": "0DiB2o3QRNhH"
      }
    },
    {
      "cell_type": "code",
      "source": [
        "# choose a movie from db\n",
        "idx = np.random.choice(movie2idx)\n",
        "# idx = movie2idx['Scream 3']\n",
        "idx\n",
        "movie_query_tfidf = X[idx]\n",
        "movie_query_tfidf.toarray()\n",
        "\n",
        "from sklearn.metrics.pairwise import cosine_similarity\n",
        "import matplotlib.pyplot as plt\n",
        "\n",
        "scores = cosine_similarity(movie_query_tfidf, X)\n",
        "scores = scores.flatten()\n",
        "\n",
        "plt.plot(scores)\n",
        "plt.show()\n",
        "\n",
        "# similarity scores for top movies\n",
        "top_five = (-scores).argsort()[1:6]\n",
        "top_five\n",
        "\n",
        "# top 5 movie recommendations\n",
        "print(f\"Movies similar to '{df_new['title'].iloc[idx]}' are: \\n\")\n",
        "print(df_new['title'].iloc[top_five])"
      ],
      "metadata": {
        "colab": {
          "base_uri": "https://localhost:8080/",
          "height": 569
        },
        "id": "JSgJUNSyCF8e",
        "outputId": "d33e0dbb-2fca-4fcd-e032-51c26b670915"
      },
      "execution_count": 182,
      "outputs": [
        {
          "output_type": "display_data",
          "data": {
            "text/plain": [
              "<Figure size 640x480 with 1 Axes>"
            ],
            "image/png": "[encoded data removed]"
          },
          "metadata": {}
        },
        {
          "output_type": "stream",
          "name": "stdout",
          "text": [
            "Movies similar to 'The Day the Earth Stood Still' are: \n",
            "\n",
            "507              Independence Day\n",
            "2900      Space Battleship Yamato\n",
            "838                        Alien³\n",
            "999     What Planet Are You From?\n",
            "4332               Silent Running\n",
            "Name: title, dtype: object\n"
          ]
        }
      ]
    }
  ]
}